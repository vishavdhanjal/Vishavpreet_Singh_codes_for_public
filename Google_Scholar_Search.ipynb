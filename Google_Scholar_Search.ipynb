{
 "cells": [
  {
   "cell_type": "code",
   "execution_count": 70,
   "id": "fed858a4",
   "metadata": {},
   "outputs": [],
   "source": [
    "from bs4 import BeautifulSoup\n",
    "import requests\n",
    "import re\n",
    "import pandas as pd"
   ]
  },
  {
   "cell_type": "code",
   "execution_count": null,
   "id": "4c32e14c",
   "metadata": {},
   "outputs": [],
   "source": [
    "def extract_text(text):\n",
    "    start_index = text.find('>') + 1\n",
    "    end_index = text.find('</a', start_index)\n",
    "    if end_index == -1:\n",
    "        end_index = text.find(']', start_index)\n",
    "    return text[start_index:end_index]"
   ]
  },
  {
   "cell_type": "code",
   "execution_count": 68,
   "id": "f98da3d8",
   "metadata": {},
   "outputs": [],
   "source": [
    "def google_scholar_search_filter(url):\n",
    "    # Send an HTTP GET request to the webpage\n",
    "    append_final_text=[]\n",
    "    response = requests.get(url)\n",
    "\n",
    "    # Check if the request was successful\n",
    "    if response.status_code == 200:\n",
    "        # Parse the HTML content of the page\n",
    "        soup = BeautifulSoup(response.content, 'html.parser')\n",
    "\n",
    "\n",
    "        links = soup.find_all('a')\n",
    "        div_content=soup.find_all('div', class_=\"gs_ri\")\n",
    "\n",
    "\n",
    "        for i in range(len(div_content)):\n",
    "            text=str(div_content[i].find('a'))\n",
    "            extracted_text = extract_text(text)\n",
    "            final_text= extracted_text.replace(\"<b>\", \"\").replace(\"</b>\",\"\")\n",
    "            append_final_text.append(final_text)\n",
    "            \n",
    "            \n",
    "    else:\n",
    "        print('Failed to retrieve the webpage')\n",
    "    \n",
    "    return pd.DataFrame(append_final_text)"
   ]
  },
  {
   "cell_type": "code",
   "execution_count": 71,
   "id": "c79be7bd",
   "metadata": {},
   "outputs": [
    {
     "data": {
      "text/html": [
       "<div>\n",
       "<style scoped>\n",
       "    .dataframe tbody tr th:only-of-type {\n",
       "        vertical-align: middle;\n",
       "    }\n",
       "\n",
       "    .dataframe tbody tr th {\n",
       "        vertical-align: top;\n",
       "    }\n",
       "\n",
       "    .dataframe thead th {\n",
       "        text-align: right;\n",
       "    }\n",
       "</style>\n",
       "<table border=\"1\" class=\"dataframe\">\n",
       "  <thead>\n",
       "    <tr style=\"text-align: right;\">\n",
       "      <th></th>\n",
       "      <th>0</th>\n",
       "    </tr>\n",
       "  </thead>\n",
       "  <tbody>\n",
       "    <tr>\n",
       "      <th>0</th>\n",
       "      <td>An investigation of the contextual distributio...</td>\n",
       "    </tr>\n",
       "    <tr>\n",
       "      <th>1</th>\n",
       "      <td>A tiny matched filter-based CNN for inter-pati...</td>\n",
       "    </tr>\n",
       "    <tr>\n",
       "      <th>2</th>\n",
       "      <td>Fuzz-ClustNet: Coupled fuzzy clustering and de...</td>\n",
       "    </tr>\n",
       "    <tr>\n",
       "      <th>3</th>\n",
       "      <td>Wrist-worn device combining PPG and ECG can be...</td>\n",
       "    </tr>\n",
       "    <tr>\n",
       "      <th>4</th>\n",
       "      <td>Enhancing Atrial Fibrillation detection accura...</td>\n",
       "    </tr>\n",
       "  </tbody>\n",
       "</table>\n",
       "</div>"
      ],
      "text/plain": [
       "                                                   0\n",
       "0  An investigation of the contextual distributio...\n",
       "1  A tiny matched filter-based CNN for inter-pati...\n",
       "2  Fuzz-ClustNet: Coupled fuzzy clustering and de...\n",
       "3  Wrist-worn device combining PPG and ECG can be...\n",
       "4  Enhancing Atrial Fibrillation detection accura..."
      ]
     },
     "execution_count": 71,
     "metadata": {},
     "output_type": "execute_result"
    }
   ],
   "source": [
    "url = 'https://scholar.google.com/scholar?hl=en&as_sdt=0%2C5&as_ylo=2023&q=Deep+Learning+algorithms&btnG='\n",
    "\n",
    "df=google_scholar_search_filter(url)\n",
    "\n",
    "keyword=\"XYZ\"\n",
    "#check if file exists to avoid override\n",
    "df.to_csv(keyword)"
   ]
  },
  {
   "cell_type": "code",
   "execution_count": 55,
   "id": "a17e9a76",
   "metadata": {},
   "outputs": [
    {
     "name": "stdout",
     "output_type": "stream",
     "text": [
      "Fetal\n"
     ]
    }
   ],
   "source": []
  }
 ],
 "metadata": {
  "kernelspec": {
   "display_name": "Python 3",
   "language": "python",
   "name": "python3"
  },
  "language_info": {
   "codemirror_mode": {
    "name": "ipython",
    "version": 3
   },
   "file_extension": ".py",
   "mimetype": "text/x-python",
   "name": "python",
   "nbconvert_exporter": "python",
   "pygments_lexer": "ipython3",
   "version": "3.6.13"
  }
 },
 "nbformat": 4,
 "nbformat_minor": 5
}
